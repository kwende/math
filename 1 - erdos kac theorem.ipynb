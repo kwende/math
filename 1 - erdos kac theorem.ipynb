{
 "cells": [
  {
   "cell_type": "code",
   "execution_count": 5,
   "id": "d0f54603",
   "metadata": {},
   "outputs": [],
   "source": [
    "import numpy as np\n",
    "import sympy"
   ]
  },
  {
   "cell_type": "markdown",
   "id": "6d0af859",
   "metadata": {},
   "source": [
    "List all the factors of a number"
   ]
  },
  {
   "cell_type": "code",
   "execution_count": 11,
   "id": "839f650b",
   "metadata": {},
   "outputs": [],
   "source": [
    "from functools import reduce\n",
    "\n",
    "def factors(n):    \n",
    "    return set(reduce(list.__add__, \n",
    "                ([i, n//i] for i in range(1, int(n**0.5) + 1) if n % i == 0)))"
   ]
  },
  {
   "cell_type": "markdown",
   "id": "7e1c9db7",
   "metadata": {},
   "source": [
    "Determine which of those factors is prime"
   ]
  },
  {
   "cell_type": "code",
   "execution_count": 16,
   "id": "8199f25d",
   "metadata": {},
   "outputs": [
    {
     "name": "stdout",
     "output_type": "stream",
     "text": [
      "[2, 5]\n"
     ]
    }
   ],
   "source": [
    "\n",
    "with open('primes.txt', 'w') as fout:\n",
    "    for n in range(1000,100000,100):\n",
    "        fout.write(f\"{n}:\")\n",
    "        for i in factors(n):\n",
    "            if sympy.isprime(i):\n",
    "                fout.write(f\"{i},\")\n",
    "        fout.write(\"\\n\\n\")\n",
    "        \n",
    "print(primes)"
   ]
  },
  {
   "cell_type": "code",
   "execution_count": null,
   "id": "36c423c4",
   "metadata": {},
   "outputs": [],
   "source": []
  }
 ],
 "metadata": {
  "kernelspec": {
   "display_name": "Python 3 (ipykernel)",
   "language": "python",
   "name": "python3"
  },
  "language_info": {
   "codemirror_mode": {
    "name": "ipython",
    "version": 3
   },
   "file_extension": ".py",
   "mimetype": "text/x-python",
   "name": "python",
   "nbconvert_exporter": "python",
   "pygments_lexer": "ipython3",
   "version": "3.8.10"
  }
 },
 "nbformat": 4,
 "nbformat_minor": 5
}
